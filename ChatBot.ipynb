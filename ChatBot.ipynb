{
 "cells": [
  {
   "cell_type": "code",
   "execution_count": 1,
   "metadata": {
    "datalore": {
     "hide_input_from_viewers": false,
     "hide_output_from_viewers": false,
     "node_id": "LoJN2m7K51YAZk1f2QfaKd",
     "type": "CODE"
    }
   },
   "outputs": [],
   "source": [
    "import random\n",
    "import json\n",
    "import  pickle\n",
    "import numpy as np\n",
    "\n",
    "import nltk\n",
    "from nltk.stem import WordNetLemmatizer\n",
    "\n",
    "from sklearn.model_selection import train_test_split\n",
    "\n",
    "from tensorflow.keras.models import  Sequential,load_model\n",
    "from  tensorflow.keras.layers import Dense,Activation,Dropout\n",
    "from tensorflow.keras.optimizers import Adam\n"
   ]
  },
  {
   "cell_type": "code",
   "execution_count": 2,
   "metadata": {},
   "outputs": [],
   "source": [
    "import tensorflow as tf\n",
    "from tensorflow.keras.callbacks import EarlyStopping\n",
    "import warnings\n",
    "warnings.filterwarnings(\"ignore\")"
   ]
  },
  {
   "cell_type": "code",
   "execution_count": 3,
   "metadata": {},
   "outputs": [],
   "source": [
    "# nltk.download('punkt')\n",
    "# nltk.download('stopwords')\n",
    "# nltk.download('wordnet')\n",
    "# nltk.download('omw-1.4')"
   ]
  },
  {
   "cell_type": "code",
   "execution_count": 4,
   "metadata": {
    "datalore": {
     "hide_input_from_viewers": false,
     "hide_output_from_viewers": false,
     "node_id": "pKFWB1ArM9SIBKTHkF0Hge",
     "type": "CODE"
    }
   },
   "outputs": [],
   "source": [
    "lemmatizer  = WordNetLemmatizer()\n",
    "intents = json.loads(open('data.json').read())"
   ]
  },
  {
   "cell_type": "code",
   "execution_count": 5,
   "metadata": {
    "datalore": {
     "hide_input_from_viewers": false,
     "hide_output_from_viewers": false,
     "node_id": "QOBRqBpiEQPJ9Iu7a6HTAn",
     "type": "CODE"
    }
   },
   "outputs": [],
   "source": [
    "words = []\n",
    "classes = []\n",
    "documents = []\n",
    "ignore_letters = ['?','!','.',',']"
   ]
  },
  {
   "cell_type": "code",
   "execution_count": 6,
   "metadata": {},
   "outputs": [],
   "source": [
    "\n",
    "training = []\n"
   ]
  },
  {
   "cell_type": "code",
   "execution_count": 7,
   "metadata": {},
   "outputs": [],
   "source": [
    "def clean_up_sentence(sentence):\n",
    "    sentence_words =nltk.word_tokenize(sentence)\n",
    "    sentence_words = [lemmatizer.lemmatize(word.lower()) for word in sentence_words if word not in ignore_letters]\n",
    "    return sentence_words"
   ]
  },
  {
   "cell_type": "code",
   "execution_count": 8,
   "metadata": {
    "datalore": {
     "hide_input_from_viewers": false,
     "hide_output_from_viewers": false,
     "node_id": "KfQBkwry9mxQkZ5bKn9Yb5",
     "type": "CODE"
    }
   },
   "outputs": [],
   "source": [
    "for intent in intents['intents']:\n",
    "    for pattern in intent['patterns']:\n",
    "        word_list = clean_up_sentence(pattern)\n",
    "        words.extend(word_list)\n",
    "        documents.append((word_list,intent['tag']))\n",
    "        if intent['tag'] not in classes:\n",
    "            classes.append(intent['tag'])\n",
    "\n",
    "#words = [lemmatizer.lemmatize(word) for word in words if word not in ignore_letters]\n",
    "words = sorted(set(words))\n",
    "classes = sorted(set(classes))"
   ]
  },
  {
   "cell_type": "code",
   "execution_count": 9,
   "metadata": {},
   "outputs": [],
   "source": [
    "def bag_of_words(sentence_words):\n",
    "    # sentence_words = clean_up_sentence(sentence)\n",
    "    bag = [0]*len(words)\n",
    "    for word in sentence_words:\n",
    "        for i,w in enumerate(words):\n",
    "            if w == word:\n",
    "                bag[i]=1    \n",
    "    return bag"
   ]
  },
  {
   "cell_type": "code",
   "execution_count": 10,
   "metadata": {},
   "outputs": [],
   "source": [
    "for document in documents:\n",
    "    # bag = []\n",
    "    # word_patterns = [lemmatizer.lemmatize(word.lower()) for word in word_patterns]\n",
    "    # for word in words : \n",
    "    #     bag.append(1) if word in word_patterns else bag.append(0)\n",
    "    bag = bag_of_words(document[0])\n",
    "    output_row = [0] * len(classes)\n",
    "    output_row[classes.index(document[1])]=1\n",
    "    training.append([bag,output_row])\n",
    "    "
   ]
  },
  {
   "cell_type": "code",
   "execution_count": 11,
   "metadata": {},
   "outputs": [],
   "source": [
    "random.shuffle(training)\n",
    "training  = np.array(training)"
   ]
  },
  {
   "cell_type": "code",
   "execution_count": 12,
   "metadata": {},
   "outputs": [],
   "source": [
    "X_train = list(training[:,0])\n",
    "y_train = list(training[:,1])\n",
    "\n",
    "model = Sequential()\n",
    "model.add(Dense(128, input_shape=(len(X_train[0]),), activation='relu'))\n",
    "model.add(Dropout(0.5))\n",
    "model.add(Dense(64,activation='relu'))\n",
    "model.add(Dropout(0.5))\n",
    "model.add(Dense(64,activation='relu'))\n",
    "model.add(Dense(len(y_train[0]),activation='sigmoid'))\n"
   ]
  },
  {
   "cell_type": "code",
   "execution_count": 13,
   "metadata": {},
   "outputs": [
    {
     "name": "stdout",
     "output_type": "stream",
     "text": [
      "Model: \"sequential\"\n",
      "_________________________________________________________________\n",
      " Layer (type)                Output Shape              Param #   \n",
      "=================================================================\n",
      " dense (Dense)               (None, 128)               9344      \n",
      "                                                                 \n",
      " dropout (Dropout)           (None, 128)               0         \n",
      "                                                                 \n",
      " dense_1 (Dense)             (None, 64)                8256      \n",
      "                                                                 \n",
      " dropout_1 (Dropout)         (None, 64)                0         \n",
      "                                                                 \n",
      " dense_2 (Dense)             (None, 64)                4160      \n",
      "                                                                 \n",
      " dense_3 (Dense)             (None, 10)                650       \n",
      "                                                                 \n",
      "=================================================================\n",
      "Total params: 22,410\n",
      "Trainable params: 22,410\n",
      "Non-trainable params: 0\n",
      "_________________________________________________________________\n"
     ]
    }
   ],
   "source": [
    "model.summary()"
   ]
  },
  {
   "cell_type": "code",
   "execution_count": 14,
   "metadata": {},
   "outputs": [],
   "source": [
    "adam = Adam(lr=0.001)\n",
    "model.compile(loss='categorical_crossentropy',optimizer=adam ,metrics=['accuracy'])"
   ]
  },
  {
   "cell_type": "code",
   "execution_count": 15,
   "metadata": {},
   "outputs": [
    {
     "name": "stdout",
     "output_type": "stream",
     "text": [
      "Epoch 1/100\n",
      "9/9 - 1s - loss: 2.3593 - accuracy: 0.0476 - 658ms/epoch - 73ms/step\n",
      "Epoch 2/100\n",
      "9/9 - 0s - loss: 2.3236 - accuracy: 0.1190 - 12ms/epoch - 1ms/step\n",
      "Epoch 3/100\n",
      "9/9 - 0s - loss: 2.2812 - accuracy: 0.0952 - 12ms/epoch - 1ms/step\n",
      "Epoch 4/100\n",
      "9/9 - 0s - loss: 2.2006 - accuracy: 0.1429 - 17ms/epoch - 2ms/step\n",
      "Epoch 5/100\n",
      "9/9 - 0s - loss: 2.1768 - accuracy: 0.2381 - 14ms/epoch - 2ms/step\n",
      "Epoch 6/100\n",
      "9/9 - 0s - loss: 2.1726 - accuracy: 0.3333 - 14ms/epoch - 2ms/step\n",
      "Epoch 7/100\n",
      "9/9 - 0s - loss: 2.1530 - accuracy: 0.2619 - 14ms/epoch - 2ms/step\n",
      "Epoch 8/100\n",
      "9/9 - 0s - loss: 2.0929 - accuracy: 0.3095 - 12ms/epoch - 1ms/step\n",
      "Epoch 9/100\n",
      "9/9 - 0s - loss: 2.0787 - accuracy: 0.3571 - 17ms/epoch - 2ms/step\n",
      "Epoch 10/100\n",
      "9/9 - 0s - loss: 2.0492 - accuracy: 0.3333 - 16ms/epoch - 2ms/step\n",
      "Epoch 11/100\n",
      "9/9 - 0s - loss: 2.0197 - accuracy: 0.3095 - 13ms/epoch - 1ms/step\n",
      "Epoch 12/100\n",
      "9/9 - 0s - loss: 1.9108 - accuracy: 0.3810 - 16ms/epoch - 2ms/step\n",
      "Epoch 13/100\n",
      "9/9 - 0s - loss: 1.8713 - accuracy: 0.3571 - 18ms/epoch - 2ms/step\n",
      "Epoch 14/100\n",
      "9/9 - 0s - loss: 1.8893 - accuracy: 0.3095 - 21ms/epoch - 2ms/step\n",
      "Epoch 15/100\n",
      "9/9 - 0s - loss: 1.9275 - accuracy: 0.3333 - 13ms/epoch - 1ms/step\n",
      "Epoch 16/100\n",
      "9/9 - 0s - loss: 1.7807 - accuracy: 0.3571 - 11ms/epoch - 1ms/step\n",
      "Epoch 17/100\n",
      "9/9 - 0s - loss: 1.7882 - accuracy: 0.3810 - 11ms/epoch - 1ms/step\n",
      "Epoch 18/100\n",
      "9/9 - 0s - loss: 1.7351 - accuracy: 0.3333 - 15ms/epoch - 2ms/step\n",
      "Epoch 19/100\n",
      "9/9 - 0s - loss: 1.7566 - accuracy: 0.4048 - 19ms/epoch - 2ms/step\n",
      "Epoch 20/100\n",
      "9/9 - 0s - loss: 1.5818 - accuracy: 0.4048 - 16ms/epoch - 2ms/step\n",
      "Epoch 21/100\n",
      "9/9 - 0s - loss: 1.6369 - accuracy: 0.5000 - 18ms/epoch - 2ms/step\n",
      "Epoch 22/100\n",
      "9/9 - 0s - loss: 1.4402 - accuracy: 0.5476 - 15ms/epoch - 2ms/step\n",
      "Epoch 23/100\n",
      "9/9 - 0s - loss: 1.3814 - accuracy: 0.6429 - 18ms/epoch - 2ms/step\n",
      "Epoch 24/100\n",
      "9/9 - 0s - loss: 1.3484 - accuracy: 0.5952 - 17ms/epoch - 2ms/step\n",
      "Epoch 25/100\n",
      "9/9 - 0s - loss: 1.4105 - accuracy: 0.6429 - 17ms/epoch - 2ms/step\n",
      "Epoch 26/100\n",
      "9/9 - 0s - loss: 1.4107 - accuracy: 0.4524 - 18ms/epoch - 2ms/step\n",
      "Epoch 27/100\n",
      "9/9 - 0s - loss: 1.0790 - accuracy: 0.6190 - 17ms/epoch - 2ms/step\n",
      "Epoch 28/100\n",
      "9/9 - 0s - loss: 1.1303 - accuracy: 0.7857 - 15ms/epoch - 2ms/step\n",
      "Epoch 29/100\n",
      "9/9 - 0s - loss: 1.0701 - accuracy: 0.6429 - 16ms/epoch - 2ms/step\n",
      "Epoch 30/100\n",
      "9/9 - 0s - loss: 0.9128 - accuracy: 0.8095 - 17ms/epoch - 2ms/step\n",
      "Epoch 31/100\n",
      "9/9 - 0s - loss: 0.9907 - accuracy: 0.7381 - 24ms/epoch - 3ms/step\n",
      "Epoch 32/100\n",
      "9/9 - 0s - loss: 0.8818 - accuracy: 0.7857 - 17ms/epoch - 2ms/step\n",
      "Epoch 33/100\n",
      "9/9 - 0s - loss: 0.9214 - accuracy: 0.7143 - 16ms/epoch - 2ms/step\n",
      "Epoch 34/100\n",
      "9/9 - 0s - loss: 0.6932 - accuracy: 0.8095 - 17ms/epoch - 2ms/step\n",
      "Epoch 35/100\n",
      "9/9 - 0s - loss: 0.9607 - accuracy: 0.6905 - 17ms/epoch - 2ms/step\n",
      "Epoch 36/100\n",
      "9/9 - 0s - loss: 0.8583 - accuracy: 0.7619 - 13ms/epoch - 1ms/step\n",
      "Epoch 37/100\n",
      "9/9 - 0s - loss: 0.6648 - accuracy: 0.8571 - 15ms/epoch - 2ms/step\n",
      "Epoch 38/100\n",
      "9/9 - 0s - loss: 0.6191 - accuracy: 0.8571 - 15ms/epoch - 2ms/step\n",
      "Epoch 39/100\n",
      "9/9 - 0s - loss: 0.6947 - accuracy: 0.8333 - 15ms/epoch - 2ms/step\n",
      "Epoch 40/100\n",
      "9/9 - 0s - loss: 0.6893 - accuracy: 0.8333 - 16ms/epoch - 2ms/step\n",
      "Epoch 41/100\n",
      "9/9 - 0s - loss: 0.4029 - accuracy: 0.8571 - 16ms/epoch - 2ms/step\n",
      "Epoch 42/100\n",
      "9/9 - 0s - loss: 0.5619 - accuracy: 0.8571 - 13ms/epoch - 1ms/step\n",
      "Epoch 43/100\n",
      "9/9 - 0s - loss: 0.3903 - accuracy: 0.9286 - 14ms/epoch - 2ms/step\n",
      "Epoch 44/100\n",
      "9/9 - 0s - loss: 0.4213 - accuracy: 0.9048 - 15ms/epoch - 2ms/step\n",
      "Epoch 45/100\n",
      "9/9 - 0s - loss: 0.6156 - accuracy: 0.8333 - 15ms/epoch - 2ms/step\n",
      "Epoch 46/100\n",
      "9/9 - 0s - loss: 0.4029 - accuracy: 0.8571 - 14ms/epoch - 2ms/step\n",
      "Epoch 47/100\n",
      "9/9 - 0s - loss: 0.5358 - accuracy: 0.9048 - 13ms/epoch - 1ms/step\n",
      "Epoch 48/100\n",
      "9/9 - 0s - loss: 0.2760 - accuracy: 0.9524 - 13ms/epoch - 1ms/step\n",
      "Epoch 49/100\n",
      "9/9 - 0s - loss: 0.3386 - accuracy: 0.8571 - 15ms/epoch - 2ms/step\n",
      "Epoch 50/100\n",
      "9/9 - 0s - loss: 0.3524 - accuracy: 0.9048 - 12ms/epoch - 1ms/step\n",
      "Epoch 51/100\n",
      "9/9 - 0s - loss: 0.4020 - accuracy: 0.9048 - 12ms/epoch - 1ms/step\n",
      "Epoch 52/100\n",
      "9/9 - 0s - loss: 0.3296 - accuracy: 0.9524 - 13ms/epoch - 1ms/step\n",
      "Epoch 53/100\n",
      "9/9 - 0s - loss: 0.3480 - accuracy: 0.8571 - 13ms/epoch - 1ms/step\n",
      "Epoch 54/100\n",
      "9/9 - 0s - loss: 0.3984 - accuracy: 0.8571 - 14ms/epoch - 2ms/step\n",
      "Epoch 55/100\n",
      "9/9 - 0s - loss: 0.4182 - accuracy: 0.8333 - 12ms/epoch - 1ms/step\n",
      "Epoch 56/100\n",
      "9/9 - 0s - loss: 0.2226 - accuracy: 0.9762 - 12ms/epoch - 1ms/step\n",
      "Epoch 57/100\n",
      "9/9 - 0s - loss: 0.2223 - accuracy: 0.9286 - 13ms/epoch - 1ms/step\n",
      "Epoch 58/100\n",
      "9/9 - 0s - loss: 0.3342 - accuracy: 0.9286 - 13ms/epoch - 1ms/step\n",
      "Epoch 59/100\n",
      "9/9 - 0s - loss: 0.2900 - accuracy: 0.9286 - 12ms/epoch - 1ms/step\n",
      "Epoch 60/100\n",
      "9/9 - 0s - loss: 0.3486 - accuracy: 0.8571 - 12ms/epoch - 1ms/step\n",
      "Epoch 61/100\n",
      "9/9 - 0s - loss: 0.2779 - accuracy: 0.9286 - 13ms/epoch - 1ms/step\n",
      "Epoch 62/100\n",
      "9/9 - 0s - loss: 0.2467 - accuracy: 0.9524 - 13ms/epoch - 1ms/step\n",
      "Epoch 63/100\n",
      "9/9 - 0s - loss: 0.2169 - accuracy: 0.9524 - 10ms/epoch - 1ms/step\n",
      "Epoch 64/100\n",
      "9/9 - 0s - loss: 0.2507 - accuracy: 0.9286 - 11ms/epoch - 1ms/step\n",
      "Epoch 65/100\n",
      "9/9 - 0s - loss: 0.2215 - accuracy: 0.9286 - 13ms/epoch - 1ms/step\n",
      "Epoch 66/100\n",
      "9/9 - 0s - loss: 0.3219 - accuracy: 0.9048 - 11ms/epoch - 1ms/step\n",
      "Epoch 67/100\n",
      "9/9 - 0s - loss: 0.2431 - accuracy: 0.9286 - 12ms/epoch - 1ms/step\n",
      "Epoch 68/100\n",
      "9/9 - 0s - loss: 0.1674 - accuracy: 0.9524 - 13ms/epoch - 1ms/step\n",
      "Epoch 69/100\n",
      "9/9 - 0s - loss: 0.1569 - accuracy: 0.9762 - 15ms/epoch - 2ms/step\n",
      "Epoch 70/100\n",
      "9/9 - 0s - loss: 0.1660 - accuracy: 0.9524 - 18ms/epoch - 2ms/step\n",
      "Epoch 71/100\n",
      "9/9 - 0s - loss: 0.2387 - accuracy: 0.9524 - 14ms/epoch - 2ms/step\n",
      "Epoch 72/100\n",
      "9/9 - 0s - loss: 0.1963 - accuracy: 0.9524 - 13ms/epoch - 1ms/step\n",
      "Epoch 73/100\n",
      "9/9 - 0s - loss: 0.2359 - accuracy: 0.9286 - 12ms/epoch - 1ms/step\n",
      "Epoch 74/100\n",
      "9/9 - 0s - loss: 0.2134 - accuracy: 0.9048 - 12ms/epoch - 1ms/step\n",
      "Epoch 75/100\n",
      "9/9 - 0s - loss: 0.1147 - accuracy: 0.9762 - 12ms/epoch - 1ms/step\n",
      "Epoch 76/100\n",
      "9/9 - 0s - loss: 0.2638 - accuracy: 0.9524 - 12ms/epoch - 1ms/step\n",
      "Epoch 77/100\n",
      "9/9 - 0s - loss: 0.2005 - accuracy: 0.9524 - 12ms/epoch - 1ms/step\n",
      "Epoch 78/100\n",
      "9/9 - 0s - loss: 0.1086 - accuracy: 0.9762 - 13ms/epoch - 1ms/step\n",
      "Epoch 79/100\n",
      "9/9 - 0s - loss: 0.1869 - accuracy: 0.9762 - 13ms/epoch - 1ms/step\n",
      "Epoch 80/100\n",
      "9/9 - 0s - loss: 0.1395 - accuracy: 0.9762 - 13ms/epoch - 1ms/step\n",
      "Epoch 81/100\n",
      "9/9 - 0s - loss: 0.0891 - accuracy: 1.0000 - 14ms/epoch - 2ms/step\n",
      "Epoch 82/100\n",
      "9/9 - 0s - loss: 0.1159 - accuracy: 0.9762 - 11ms/epoch - 1ms/step\n",
      "Epoch 83/100\n",
      "9/9 - 0s - loss: 0.1630 - accuracy: 0.9524 - 12ms/epoch - 1ms/step\n",
      "Epoch 84/100\n",
      "9/9 - 0s - loss: 0.1682 - accuracy: 0.9286 - 12ms/epoch - 1ms/step\n",
      "Epoch 85/100\n",
      "9/9 - 0s - loss: 0.1352 - accuracy: 0.9524 - 12ms/epoch - 1ms/step\n",
      "Epoch 86/100\n",
      "9/9 - 0s - loss: 0.2645 - accuracy: 0.9286 - 11ms/epoch - 1ms/step\n",
      "Epoch 87/100\n",
      "9/9 - 0s - loss: 0.0727 - accuracy: 1.0000 - 17ms/epoch - 2ms/step\n",
      "Epoch 88/100\n",
      "9/9 - 0s - loss: 0.1285 - accuracy: 0.9524 - 12ms/epoch - 1ms/step\n",
      "Epoch 89/100\n",
      "9/9 - 0s - loss: 0.1701 - accuracy: 0.9762 - 11ms/epoch - 1ms/step\n",
      "Epoch 90/100\n",
      "9/9 - 0s - loss: 0.0340 - accuracy: 1.0000 - 12ms/epoch - 1ms/step\n",
      "Epoch 91/100\n",
      "9/9 - 0s - loss: 0.1019 - accuracy: 0.9762 - 13ms/epoch - 1ms/step\n",
      "Epoch 92/100\n",
      "9/9 - 0s - loss: 0.0912 - accuracy: 0.9762 - 12ms/epoch - 1ms/step\n",
      "Epoch 93/100\n",
      "9/9 - 0s - loss: 0.1106 - accuracy: 0.9524 - 12ms/epoch - 1ms/step\n",
      "Epoch 94/100\n",
      "9/9 - 0s - loss: 0.1622 - accuracy: 0.9524 - 14ms/epoch - 2ms/step\n",
      "Epoch 95/100\n",
      "9/9 - 0s - loss: 0.0677 - accuracy: 0.9762 - 16ms/epoch - 2ms/step\n",
      "Epoch 96/100\n",
      "9/9 - 0s - loss: 0.1812 - accuracy: 0.9286 - 14ms/epoch - 2ms/step\n",
      "Epoch 97/100\n",
      "9/9 - 0s - loss: 0.0631 - accuracy: 1.0000 - 14ms/epoch - 2ms/step\n",
      "Epoch 98/100\n",
      "9/9 - 0s - loss: 0.1772 - accuracy: 0.9286 - 12ms/epoch - 1ms/step\n",
      "Epoch 99/100\n",
      "9/9 - 0s - loss: 0.1131 - accuracy: 0.9762 - 13ms/epoch - 1ms/step\n",
      "Epoch 100/100\n",
      "9/9 - 0s - loss: 0.0806 - accuracy: 1.0000 - 15ms/epoch - 2ms/step\n"
     ]
    }
   ],
   "source": [
    "early_stop = EarlyStopping(monitor='loss', patience=2)\n",
    "hist = model.fit(np.array(X_train),np.array(y_train),epochs=100,batch_size=5,verbose=2)"
   ]
  },
  {
   "cell_type": "code",
   "execution_count": 16,
   "metadata": {},
   "outputs": [],
   "source": [
    "model.save('model.h5',hist)"
   ]
  },
  {
   "cell_type": "code",
   "execution_count": 17,
   "metadata": {},
   "outputs": [],
   "source": [
    "model = load_model('model.h5')"
   ]
  },
  {
   "cell_type": "code",
   "execution_count": 18,
   "metadata": {},
   "outputs": [],
   "source": [
    "def predict_class(sentence):\n",
    "    bow = bag_of_words(clean_up_sentence(sentence))\n",
    "    res = model.predict(np.array([np.array(bow)]))[0]\n",
    "    ERROR_THRESHOLD = 0.25\n",
    "    results = [[i,r] for i,r in enumerate(res) if r > ERROR_THRESHOLD]\n",
    "    \n",
    "    results.sort(key=lambda x: x[1],reverse=True)\n",
    "    return_list  =[]\n",
    "    \n",
    "    for r in results:\n",
    "        return_list.append({'intent':classes[r[0]], 'probabilty':str(r[1])})\n",
    "    \n",
    "    return return_list\n",
    "        "
   ]
  },
  {
   "cell_type": "code",
   "execution_count": 19,
   "metadata": {},
   "outputs": [],
   "source": [
    "def get_reposnse(intents_list,intent_json):\n",
    "    tag = intents_list[0]['intent']\n",
    "    list_of_intents = intent_json['intents']\n",
    "    result =\"\"\n",
    "    for i in list_of_intents:\n",
    "        if i['tag'] == tag:\n",
    "            result =random.choice(i['responses'])\n",
    "            break\n",
    "    return result"
   ]
  },
  {
   "cell_type": "code",
   "execution_count": 20,
   "metadata": {},
   "outputs": [
    {
     "name": "stdout",
     "output_type": "stream",
     "text": [
      "strat!!!!\n",
      "1/1 [==============================] - 0s 106ms/step\n",
      "No, Sorry you can check our other products.\n",
      "1/1 [==============================] - 0s 20ms/step\n",
      "No, Sorry you can check our other products.\n",
      "1/1 [==============================] - 0s 20ms/step\n",
      "No, Sorry you can check our other products.\n",
      "1/1 [==============================] - 0s 41ms/step\n",
      "Bye! Come back again soon.\n",
      "1/1 [==============================] - 0s 21ms/step\n",
      "See you later, thanks for visiting\n",
      "1/1 [==============================] - 0s 18ms/step\n",
      "Bye! Come back again soon.\n",
      "1/1 [==============================] - 0s 20ms/step\n",
      "Good to see you, how can I help You\n",
      "1/1 [==============================] - 0s 22ms/step\n",
      "All types of fashionable traditional wears.\n"
     ]
    }
   ],
   "source": [
    "print(\"strat!!!!\")\n",
    "\n",
    "while True:\n",
    "    message = input(\"\")\n",
    "    ints = predict_class(message)\n",
    "    res = get_reposnse(ints,intents)\n",
    "    print(res)"
   ]
  }
 ],
 "metadata": {
  "datalore": {
   "base_environment": "default",
   "computation_mode": "JUPYTER",
   "package_manager": "pip",
   "packages": [],
   "version": 1
  },
  "kernelspec": {
   "display_name": "Python 3.9.12 ('base')",
   "language": "python",
   "name": "python3"
  },
  "language_info": {
   "codemirror_mode": {
    "name": "ipython",
    "version": 3
   },
   "file_extension": ".py",
   "mimetype": "text/x-python",
   "name": "python",
   "nbconvert_exporter": "python",
   "pygments_lexer": "ipython3",
   "version": "3.9.12"
  },
  "vscode": {
   "interpreter": {
    "hash": "2572ca2aab7f2473fba50684e7980853e48f886eb6611acebd0d880cf59cd0f7"
   }
  }
 },
 "nbformat": 4,
 "nbformat_minor": 4
}
